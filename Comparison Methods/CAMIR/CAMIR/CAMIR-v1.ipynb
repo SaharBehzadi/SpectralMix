{
 "cells": [
  {
   "cell_type": "code",
   "execution_count": 84,
   "metadata": {},
   "outputs": [],
   "source": [
    "%matplotlib inline\n",
    "import numpy as np\n",
    "import networkx as nx\n",
    "import matplotlib.pyplot as plt\n",
    "from sklearn.cluster import KMeans\n",
    "from sklearn.cluster import SpectralClustering\n",
    "import scipy\n",
    "import os\n",
    "from scipy.sparse.linalg import eigs, eigsh\n",
    "from sklearn.cluster import KMeans\n",
    "import math\n",
    "import pandas as pd"
   ]
  },
  {
   "cell_type": "code",
   "execution_count": 85,
   "metadata": {},
   "outputs": [],
   "source": [
    "# Read data (graph edges)\n",
    "data_path = os.path.join('Data\\Disney', 'edgeWeight.txt') #data/Disney (for github project)\n",
    "with open(data_path) as f:\n",
    "    edges = [tuple([int(x) for x in line.strip().split('\t')]) for line in f]\n",
    "edges = [tuple([edge[0], edge[1]]) for edge in edges]\n"
   ]
  },
  {
   "cell_type": "code",
   "execution_count": 86,
   "metadata": {},
   "outputs": [],
   "source": [
    "# Read attribute data\n",
    "att_path = os.path.join('Data\\Disney', 'Data.txt')   #data/Disney (for github project)\n",
    "with open(att_path) as f:\n",
    "    attributes = [tuple([float(x) for x in line.strip().split('\t')]) for line in f]"
   ]
  },
  {
   "cell_type": "code",
   "execution_count": 87,
   "metadata": {},
   "outputs": [
    {
     "data": {
      "text/plain": [
       "(124,)"
      ]
     },
     "execution_count": 87,
     "metadata": {},
     "output_type": "execute_result"
    }
   ],
   "source": [
    "# Read cluster labels data\n",
    "cluster_l = np.loadtxt('Data\\Disney\\clusterData.csv', dtype=int)   #data/Disney (for github project)\n",
    "cluster_l.shape"
   ]
  },
  {
   "cell_type": "code",
   "execution_count": 88,
   "metadata": {},
   "outputs": [],
   "source": [
    "nodes = np.unique(np.asarray(edges))\n",
    "num_nodes= nodes.shape[0]"
   ]
  },
  {
   "cell_type": "code",
   "execution_count": 89,
   "metadata": {},
   "outputs": [],
   "source": [
    "a_dict = {}\n",
    "att_numbers = range(28)\n",
    "att_names = range(28)\n",
    "node_att = {}\n",
    "\n",
    "for y in range(nodes.shape[0]):\n",
    "    for x in att_numbers:\n",
    "        a=dict(zip(att_names,attributes[y]))\n",
    "    node_att[y] = a\n",
    "#node_att"
   ]
  },
  {
   "cell_type": "code",
   "execution_count": 90,
   "metadata": {},
   "outputs": [
    {
     "data": {
      "text/plain": [
       "<networkx.classes.multigraph.MultiGraph at 0x28b434f75f8>"
      ]
     },
     "execution_count": 90,
     "metadata": {},
     "output_type": "execute_result"
    }
   ],
   "source": [
    "G = nx.MultiGraph()\n",
    "G.add_nodes_from(nodes)\n",
    "G.add_edges_from(edges)\n",
    "nx.set_node_attributes(G,node_att)\n",
    "G"
   ]
  },
  {
   "cell_type": "code",
   "execution_count": 91,
   "metadata": {},
   "outputs": [],
   "source": [
    "edges = [b for a, b in G.adjacency()]"
   ]
  },
  {
   "cell_type": "code",
   "execution_count": 92,
   "metadata": {},
   "outputs": [],
   "source": [
    "distance = [[[0 for k in range(28)] for j in range(124)] for i in range(124)]\n",
    "x = int\n",
    "for y in range(0,124):\n",
    "    for x in edges[y]:\n",
    "        for j in range(0,28):\n",
    "            distance[y][x][j]=math.exp(-(pow(abs(attributes[y][j] - attributes[x][j]),2))/2)\n"
   ]
  },
  {
   "cell_type": "code",
   "execution_count": 93,
   "metadata": {},
   "outputs": [],
   "source": [
    "S0 = [[0 for j in range(124)] for i in range(124)]\n",
    "for y in range(124):\n",
    "    for x in edges[y]:\n",
    "        S0[y][x] = math.exp((-(pow(abs(attributes[y][0]-attributes[x][0]),2)))/2)\n",
    "S2 = [[0 for j in range(124)] for i in range(124)]\n",
    "for y in range(124):\n",
    "    for x in edges[y]:\n",
    "        S2[y][x] = math.exp((-(pow(abs(attributes[y][2]-attributes[x][2]),2)))/2)\n",
    "S3 = [[0 for j in range(124)] for i in range(124)]\n",
    "for y in range(124):\n",
    "    for x in edges[y]:\n",
    "        S3[y][x] = math.exp((-(pow(abs(attributes[y][3]-attributes[x][3]),2)))/2)\n",
    "S4 = [[0 for j in range(124)] for i in range(124)]\n",
    "for y in range(124):\n",
    "    for x in edges[y]:\n",
    "        S4[y][x] = math.exp((-(pow(abs(attributes[y][4]-attributes[x][4]),2)))/2)\n",
    "S8 = [[0 for j in range(124)] for i in range(124)]\n",
    "for y in range(124):\n",
    "    for x in edges[y]:\n",
    "        S8[y][x] = math.exp((-(pow(abs(attributes[y][8]-attributes[x][8]),2)))/2)\n",
    "S9 = [[0 for j in range(124)] for i in range(124)]\n",
    "for y in range(124):\n",
    "    for x in edges[y]:\n",
    "        S9[y][x] = math.exp((-(pow(abs(attributes[y][9]-attributes[x][9]),2)))/2)\n",
    "S10 = [[0 for j in range(124)] for i in range(124)]\n",
    "for y in range(124):\n",
    "    for x in edges[y]:\n",
    "        S10[y][x] = math.exp((-(pow(abs(attributes[y][10]-attributes[x][10]),2)))/2)\n",
    "S12 = [[0 for j in range(124)] for i in range(124)]\n",
    "for y in range(124):\n",
    "    for x in edges[y]:\n",
    "        S12[y][x] = math.exp((-(pow(abs(attributes[y][12]-attributes[x][12]),2)))/2)\n",
    "S14 = [[0 for j in range(124)] for i in range(124)]\n",
    "for y in range(124):\n",
    "    for x in edges[y]:\n",
    "        S14[y][x] = math.exp((-(pow(abs(attributes[y][14]-attributes[x][14]),2)))/2)\n",
    "S16 = [[0 for j in range(124)] for i in range(124)]\n",
    "for y in range(124):\n",
    "    for x in edges[y]:\n",
    "        S16[y][x] = math.exp((-(pow(abs(attributes[y][16]-attributes[x][16]),2)))/2)\n",
    "S17 = [[0 for j in range(124)] for i in range(124)]\n",
    "for y in range(124):\n",
    "    for x in edges[y]:\n",
    "        S17[y][x] = math.exp((-(pow(abs(attributes[y][17]-attributes[x][17]),2)))/2)\n",
    "S20 = [[0 for j in range(124)] for i in range(124)]\n",
    "for y in range(124):\n",
    "    for x in edges[y]:\n",
    "        S20[y][x] = math.exp((-(pow(abs(attributes[y][20]-attributes[x][20]),2)))/2)\n",
    "S22 = [[0 for j in range(124)] for i in range(124)]\n",
    "for y in range(124):\n",
    "    for x in edges[y]:\n",
    "        S22[y][x] = math.exp((-(pow(abs(attributes[y][22]-attributes[x][22]),2)))/2)\n",
    "S23 = [[0 for j in range(124)] for i in range(124)]\n",
    "for y in range(124):\n",
    "    for x in edges[y]:\n",
    "        S23[y][x] = math.exp((-(pow(abs(attributes[y][23]-attributes[x][23]),2)))/2)\n",
    "S24 = [[0 for j in range(124)] for i in range(124)]\n",
    "for y in range(124):\n",
    "    for x in edges[y]:\n",
    "        S24[y][x] = math.exp((-(pow(abs(attributes[y][24]-attributes[x][24]),2)))/2)\n",
    "S25 = [[0 for j in range(124)] for i in range(124)]\n",
    "for y in range(124):\n",
    "    for x in edges[y]:\n",
    "        S25[y][x] = math.exp((-(pow(abs(attributes[y][25]-attributes[x][25]),2)))/2)\n",
    "S26 = [[0 for j in range(124)] for i in range(124)]\n",
    "for y in range(124):\n",
    "    for x in edges[y]:\n",
    "        S26[y][x] = math.exp((-(pow(abs(attributes[y][26]-attributes[x][26]),2)))/2)\n",
    "S27 = [[0 for j in range(124)] for i in range(124)]\n",
    "for y in range(124):\n",
    "    for x in edges[y]:\n",
    "        S27[y][x] = math.exp((-(pow(abs(attributes[y][27]-attributes[x][27]),2)))/2)\n"
   ]
  },
  {
   "cell_type": "code",
   "execution_count": 94,
   "metadata": {},
   "outputs": [],
   "source": [
    "DiagS0 = [[0 for j in range(124)] for i in range(124)]\n",
    "for y in range(124):\n",
    "    for x in range(124):\n",
    "        DiagS0[y][y] += S0[y][x]\n",
    "\n",
    "DiagS2 = [[0 for j in range(124)] for i in range(124)]\n",
    "for y in range(124):\n",
    "    for x in range(124):\n",
    "        DiagS2[y][y] += S2[y][x]\n",
    "\n",
    "DiagS3 = [[0 for j in range(124)] for i in range(124)]\n",
    "for y in range(124):\n",
    "    for x in range(124):\n",
    "        DiagS3[y][y] += S3[y][x]\n",
    "\n",
    "DiagS4 = [[0 for j in range(124)] for i in range(124)]\n",
    "for y in range(124):\n",
    "    for x in range(124):\n",
    "        DiagS4[y][y] += S4[y][x]\n",
    "\n",
    "DiagS8 = [[0 for j in range(124)] for i in range(124)]\n",
    "for y in range(124):\n",
    "    for x in range(124):\n",
    "        DiagS8[y][y] += S8[y][x]\n",
    "\n",
    "DiagS9 = [[0 for j in range(124)] for i in range(124)]\n",
    "for y in range(124):\n",
    "    for x in range(124):\n",
    "        DiagS9[y][y] += S9[y][x]\n",
    "\n",
    "DiagS10 = [[0 for j in range(124)] for i in range(124)]\n",
    "for y in range(124):\n",
    "    for x in range(124):\n",
    "        DiagS10[y][y] += S10[y][x]\n",
    "\n",
    "DiagS12 = [[0 for j in range(124)] for i in range(124)]\n",
    "for y in range(124):\n",
    "    for x in range(124):\n",
    "        DiagS12[y][y] += S12[y][x]\n",
    "\n",
    "DiagS14 = [[0 for j in range(124)] for i in range(124)]\n",
    "for y in range(124):\n",
    "    for x in range(124):\n",
    "        DiagS14[y][y] += S14[y][x]\n",
    "\n",
    "DiagS16 = [[0 for j in range(124)] for i in range(124)]\n",
    "for y in range(124):\n",
    "    for x in range(124):\n",
    "        DiagS16[y][y] += S16[y][x]\n",
    "\n",
    "DiagS17 = [[0 for j in range(124)] for i in range(124)]\n",
    "for y in range(124):\n",
    "    for x in range(124):\n",
    "        DiagS17[y][y] += S17[y][x]\n",
    "\n",
    "DiagS20 = [[0 for j in range(124)] for i in range(124)]\n",
    "for y in range(124):\n",
    "    for x in range(124):\n",
    "        DiagS20[y][y] += S20[y][x]\n",
    "\n",
    "DiagS22 = [[0 for j in range(124)] for i in range(124)]\n",
    "for y in range(124):\n",
    "    for x in range(124):\n",
    "        DiagS22[y][y] += S22[y][x]\n",
    "\n",
    "DiagS23 = [[0 for j in range(124)] for i in range(124)]\n",
    "for y in range(124):\n",
    "    for x in range(124):\n",
    "        DiagS23[y][y] += S23[y][x]\n",
    "\n",
    "DiagS24 = [[0 for j in range(124)] for i in range(124)]\n",
    "for y in range(124):\n",
    "    for x in range(124):\n",
    "        DiagS24[y][y] += S24[y][x]\n",
    "\n",
    "DiagS25 = [[0 for j in range(124)] for i in range(124)]\n",
    "for y in range(124):\n",
    "    for x in range(124):\n",
    "        DiagS25[y][y] += S25[y][x]\n",
    "\n",
    "DiagS26 = [[0 for j in range(124)] for i in range(124)]\n",
    "for y in range(124):\n",
    "    for x in range(124):\n",
    "        DiagS26[y][y] += S26[y][x]\n",
    "\n",
    "DiagS27 = [[0 for j in range(124)] for i in range(124)]\n",
    "for y in range(124):\n",
    "    for x in range(124):\n",
    "        DiagS27[y][y] += S27[y][x]"
   ]
  },
  {
   "cell_type": "code",
   "execution_count": 95,
   "metadata": {},
   "outputs": [],
   "source": [
    "MatDiagS0 = np.linalg.inv(np.sqrt(DiagS0))\n",
    "MatDiagS2 = np.linalg.inv(np.sqrt(DiagS2))\n",
    "MatDiagS3 = np.linalg.inv(np.sqrt(DiagS3))\n",
    "MatDiagS4 = np.linalg.inv(np.sqrt(DiagS4))\n",
    "MatDiagS8 = np.linalg.inv(np.sqrt(DiagS8))\n",
    "MatDiagS9 = np.linalg.inv(np.sqrt(DiagS9))\n",
    "MatDiagS10 = np.linalg.inv(np.sqrt(DiagS10))\n",
    "MatDiagS12 = np.linalg.inv(np.sqrt(DiagS12))\n",
    "MatDiagS14 = np.linalg.inv(np.sqrt(DiagS14))\n",
    "MatDiagS16 = np.linalg.inv(np.sqrt(DiagS16))\n",
    "MatDiagS17 = np.linalg.inv(np.sqrt(DiagS17))\n",
    "MatDiagS20 = np.linalg.inv(np.sqrt(DiagS20))\n",
    "MatDiagS22 = np.linalg.inv(np.sqrt(DiagS22))\n",
    "MatDiagS23 = np.linalg.inv(np.sqrt(DiagS23))\n",
    "MatDiagS24 = np.linalg.inv(np.sqrt(DiagS24))\n",
    "MatDiagS25 = np.linalg.inv(np.sqrt(DiagS25))\n",
    "MatDiagS26 = np.linalg.inv(np.sqrt(DiagS26))\n",
    "MatDiagS27 = np.linalg.inv(np.sqrt(DiagS27))"
   ]
  },
  {
   "cell_type": "code",
   "execution_count": 96,
   "metadata": {},
   "outputs": [],
   "source": [
    "I = np.identity(124)"
   ]
  },
  {
   "cell_type": "code",
   "execution_count": 97,
   "metadata": {},
   "outputs": [],
   "source": [
    "k = 9 \n",
    "DSD0 = np.dot(np.dot(MatDiagS0,S0),MatDiagS0)\n",
    "L0 = I - DSD0\n",
    "w0, v0 = np.linalg.eigh(L0)\n",
    "U0 = v0[:,:k]\n",
    "\n",
    "DSD2 = np.dot(np.dot(MatDiagS2,S2),MatDiagS2)\n",
    "L2 = I - DSD2\n",
    "w2, v2 = np.linalg.eigh(L2)\n",
    "U2 = v2[:,:k]\n",
    "\n",
    "DSD3 = np.dot(np.dot(MatDiagS3,S3),MatDiagS3)\n",
    "L3 = I - DSD3\n",
    "w3, v3 = np.linalg.eigh(L3)\n",
    "U3 = v3[:,:k]\n",
    "\n",
    "DSD4 = np.dot(np.dot(MatDiagS4,S4),MatDiagS4)\n",
    "L4 = I - DSD4\n",
    "w4, v4 = np.linalg.eigh(L4)\n",
    "U4 = v4[:,:k]\n",
    "\n",
    "DSD8 = np.dot(np.dot(MatDiagS8,S8),MatDiagS8)\n",
    "L8 = I - DSD8\n",
    "w8, v8 = np.linalg.eigh(L8)\n",
    "U8 = v8[:,:k]\n",
    "\n",
    "DSD9 = np.dot(np.dot(MatDiagS9,S9),MatDiagS9)\n",
    "L9 = I - DSD9\n",
    "w9, v9 = np.linalg.eigh(L9)\n",
    "U9 = v9[:,:k]\n",
    "\n",
    "DSD10 = np.dot(np.dot(MatDiagS10,S10),MatDiagS10)\n",
    "L10 = I - DSD10\n",
    "w10, v10 = np.linalg.eigh(L10)\n",
    "U10 = v10[:,:k]\n",
    "\n",
    "DSD12 = np.dot(np.dot(MatDiagS12,S12),MatDiagS12)\n",
    "L12 = I - DSD12\n",
    "w12, v12 = np.linalg.eigh(L12)\n",
    "U12 = v12[:,:k]\n",
    "\n",
    "DSD14 = np.dot(np.dot(MatDiagS14,S14),MatDiagS14)\n",
    "L14 = I - DSD14\n",
    "w14, v14 = np.linalg.eigh(L14)\n",
    "U14 = v14[:,:k]\n",
    "\n",
    "DSD16 = np.dot(np.dot(MatDiagS16,S16),MatDiagS16)\n",
    "L16 = I - DSD16\n",
    "w16, v16 = np.linalg.eigh(L16)\n",
    "U16 = v16[:,:k]\n",
    "\n",
    "DSD17 = np.dot(np.dot(MatDiagS17,S17),MatDiagS17)\n",
    "L17 = I - DSD17\n",
    "w17, v17 = np.linalg.eigh(L17)\n",
    "U17 = v17[:,:k]\n",
    "\n",
    "DSD20 = np.dot(np.dot(MatDiagS20,S20),MatDiagS20)\n",
    "L20 = I - DSD20\n",
    "w20, v20 = np.linalg.eigh(L20)\n",
    "U20 = v20[:,:k]\n",
    "\n",
    "DSD22 = np.dot(np.dot(MatDiagS22,S22),MatDiagS22)\n",
    "L22 = I - DSD22\n",
    "w22, v22 = np.linalg.eigh(L22)\n",
    "U22 = v22[:,:k]\n",
    "\n",
    "DSD23 = np.dot(np.dot(MatDiagS23,S23),MatDiagS23)\n",
    "L23 = I - DSD23\n",
    "w23, v23 = np.linalg.eigh(L23)\n",
    "U23 = v23[:,:k]\n",
    "\n",
    "DSD24 = np.dot(np.dot(MatDiagS24,S24),MatDiagS24)\n",
    "L24 = I - DSD24\n",
    "w24, v24 = np.linalg.eigh(L24)\n",
    "U24 = v24[:,:k]\n",
    "\n",
    "DSD25 = np.dot(np.dot(MatDiagS25,S25),MatDiagS25)\n",
    "L25 = I - DSD25\n",
    "w25, v25 = np.linalg.eigh(L25)\n",
    "U25 = v25[:,:k]\n",
    "\n",
    "DSD26 = np.dot(np.dot(MatDiagS26,S26),MatDiagS26)\n",
    "L26 = I - DSD26\n",
    "w26, v26 = np.linalg.eigh(L26)\n",
    "U26 = v26[:,:k]\n",
    "\n",
    "DSD27 = np.dot(np.dot(MatDiagS27,S27),MatDiagS27)\n",
    "L27 = I - DSD27\n",
    "w27, v27 = np.linalg.eigh(L27)\n",
    "U27 = v27[:,:k]"
   ]
  },
  {
   "cell_type": "code",
   "execution_count": 48,
   "metadata": {},
   "outputs": [],
   "source": [
    "'''\n",
    "UP0 = np.dot(np.transpose(U0),U0)\n",
    "UP2 = np.dot(np.transpose(U2),U2)\n",
    "UP3 = np.dot(np.transpose(U3),U3)\n",
    "UP4 = np.dot(np.transpose(U4),U4)\n",
    "UP8 = np.dot(np.transpose(U8),U8)\n",
    "UP9 = np.dot(np.transpose(U9),U9)\n",
    "UP10 = np.dot(np.transpose(U10),U10)\n",
    "UP12 = np.dot(np.transpose(U12),U12)\n",
    "UP14 = np.dot(np.transpose(U14),U14)\n",
    "UP16 = np.dot(np.transpose(U16),U16)\n",
    "UP17 = np.dot(np.transpose(U17),U17)\n",
    "UP20 = np.dot(np.transpose(U20),U20)\n",
    "UP22 = np.dot(np.transpose(U22),U22)\n",
    "UP23 = np.dot(np.transpose(U23),U23)\n",
    "UP24 = np.dot(np.transpose(U24),U24)\n",
    "UP25 = np.dot(np.transpose(U25),U25)\n",
    "UP26 = np.dot(np.transpose(U26),U26)\n",
    "UP27 = np.dot(np.transpose(U27),U27)\n",
    "'''"
   ]
  },
  {
   "cell_type": "code",
   "execution_count": 98,
   "metadata": {},
   "outputs": [],
   "source": [
    "UP0T= np.dot(U0,np.transpose(U0))\n",
    "UP2T= np.dot(U2,np.transpose(U2))\n",
    "UP3T= np.dot(U3,np.transpose(U3))\n",
    "UP4T= np.dot(U4,np.transpose(U4))\n",
    "UP8T= np.dot(U8,np.transpose(U8))\n",
    "UP9T= np.dot(U9,np.transpose(U9))\n",
    "UP10T= np.dot(U10,np.transpose(U10))\n",
    "UP12T= np.dot(U12,np.transpose(U12))\n",
    "UP14T= np.dot(U14,np.transpose(U14))\n",
    "UP16T= np.dot(U16,np.transpose(U16))\n",
    "UP17T= np.dot(U17,np.transpose(U17))\n",
    "UP20T= np.dot(U20,np.transpose(U20))\n",
    "UP22T= np.dot(U22,np.transpose(U22))\n",
    "UP23T= np.dot(U23,np.transpose(U23))\n",
    "UP24T= np.dot(U24,np.transpose(U24))\n",
    "UP25T= np.dot(U25,np.transpose(U25))\n",
    "UP26T= np.dot(U26,np.transpose(U26))\n",
    "UP27T= np.dot(U27,np.transpose(U27))"
   ]
  },
  {
   "cell_type": "code",
   "execution_count": 99,
   "metadata": {},
   "outputs": [],
   "source": [
    "UTotalT = UP0T + UP2T + UP3T + UP4T + UP8T + UP9T + UP10T + UP12T + UP14T + UP16T + UP17T + UP20T + UP22T + UP23T + UP24T + UP25T + UP26T + UP27T\n"
   ]
  },
  {
   "cell_type": "code",
   "execution_count": 103,
   "metadata": {},
   "outputs": [],
   "source": [
    "FP0 = np.trace(np.dot(UP0T,(L0+0.01*(UTotalT-UP0T))))\n",
    "FP2 = np.trace(np.dot(UP2T,(L2+0.01*(UTotalT-UP2T))))\n",
    "FP3 = np.trace(np.dot(UP3T,(L3+0.01*(UTotalT-UP3T))))\n",
    "FP4 = np.trace(np.dot(UP4T,(L4+0.01*(UTotalT-UP4T))))\n",
    "FP8 = np.trace(np.dot(UP8T,(L8+0.01*(UTotalT-UP8T))))\n",
    "FP9 = np.trace(np.dot(UP9T,(L9+0.01*(UTotalT-UP9T))))\n",
    "FP10 = np.trace(np.dot(UP10T,(L10+0.01*(UTotalT-UP10T))))\n",
    "FP12 = np.trace(np.dot(UP12T,(L12+0.01*(UTotalT-UP12T))))\n",
    "FP14 = np.trace(np.dot(UP14T,(L14+0.01*(UTotalT-UP14T))))\n",
    "FP16 = np.trace(np.dot(UP16T,(L16+0.01*(UTotalT-UP16T))))\n",
    "FP17 = np.trace(np.dot(UP17T,(L17+0.01*(UTotalT-UP17T))))\n",
    "FP20 = np.trace(np.dot(UP20T,(L20+0.01*(UTotalT-UP20T))))\n",
    "FP22 = np.trace(np.dot(UP22T,(L22+0.01*(UTotalT-UP22T))))\n",
    "FP23 = np.trace(np.dot(UP23T,(L23+0.01*(UTotalT-UP23T))))\n",
    "FP24 = np.trace(np.dot(UP24T,(L24+0.01*(UTotalT-UP24T))))\n",
    "FP25 = np.trace(np.dot(UP25T,(L25+0.01*(UTotalT-UP25T))))\n",
    "FP26 = np.trace(np.dot(UP26T,(L26+0.01*(UTotalT-UP26T))))\n",
    "FP27 = np.trace(np.dot(UP27T,(L27+0.01*(UTotalT-UP27T))))"
   ]
  },
  {
   "cell_type": "code",
   "execution_count": 104,
   "metadata": {},
   "outputs": [],
   "source": [
    "FP = np.array([FP0,FP2,FP3,FP4,FP8,FP9,FP10,FP12,FP14,FP16,FP17,FP20,FP22,FP23,FP24,FP25,FP26,FP27])"
   ]
  },
  {
   "cell_type": "code",
   "execution_count": 105,
   "metadata": {},
   "outputs": [
    {
     "name": "stdout",
     "output_type": "stream",
     "text": [
      "2.0319798387029575\n",
      "1.7209247393026188\n",
      "2.03073345991812\n",
      "2.024472743468681\n",
      "1.7305369233503172\n",
      "1.6009510076545177\n",
      "1.3451947149425636\n",
      "2.0319282885331282\n",
      "2.0282645548920075\n",
      "0.9866461204345646\n",
      "1.7158353124863797\n",
      "0.5876903192529762\n",
      "2.0258223447597565\n",
      "1.9311920964811702\n",
      "1.340972878025579\n",
      "1.2518520475005719\n",
      "0.7866221469444604\n",
      "2.0207528932716348\n"
     ]
    }
   ],
   "source": [
    "for i in FP:\n",
    "    print(i)"
   ]
  },
  {
   "cell_type": "code",
   "execution_count": 106,
   "metadata": {},
   "outputs": [
    {
     "data": {
      "text/plain": [
       "2.0319798387029575"
      ]
     },
     "execution_count": 106,
     "metadata": {},
     "output_type": "execute_result"
    }
   ],
   "source": [
    "FP.max()"
   ]
  },
  {
   "cell_type": "code",
   "execution_count": 82,
   "metadata": {},
   "outputs": [
    {
     "data": {
      "text/plain": [
       "0.05876981426713804"
      ]
     },
     "execution_count": 82,
     "metadata": {},
     "output_type": "execute_result"
    }
   ],
   "source": [
    "FP[11]"
   ]
  },
  {
   "cell_type": "code",
   "execution_count": 83,
   "metadata": {},
   "outputs": [
    {
     "data": {
      "text/plain": [
       "0.04571743311344287"
      ]
     },
     "execution_count": 83,
     "metadata": {},
     "output_type": "execute_result"
    }
   ],
   "source": [
    "FP20"
   ]
  },
  {
   "cell_type": "code",
   "execution_count": 607,
   "metadata": {},
   "outputs": [],
   "source": [
    "#U20"
   ]
  },
  {
   "cell_type": "code",
   "execution_count": 384,
   "metadata": {},
   "outputs": [],
   "source": [
    "'''\n",
    "FP00 = np.trace(np.dot(UP0T,(L0+(UTotalT-UP0T))))\n",
    "FP22 = np.trace(np.dot(UP2T,(L2+(UTotalT-UP2T-UP0T))))\n",
    "FP33 = np.trace(np.dot(UP3T,(L3+(UTotalT-UP3T-UP0T-UP2T))))\n",
    "FP44 = np.trace(np.dot(UP4T,(L4+(UTotalT-UP4T-UP0T-UP2T-UP3T))))\n",
    "FP88 = np.trace(np.dot(UP8T,(L8+(UTotalT-UP8T-UP4T-UP0T-UP2T-UP3T))))\n",
    "FP99 = np.trace(np.dot(UP9T,(L9+(UTotalT-UP9T-UP8T-UP4T-UP0T-UP2T-UP3T))))\n",
    "FP1010 = np.trace(np.dot(UP10T,(L10+(UTotalT-UP10T-UP9T-UP8T-UP4T-UP0T-UP2T-UP3T))))\n",
    "FP1212 = np.trace(np.dot(UP12T,(L12+(UTotalT-UP12T-UP10T-UP9T-UP8T-UP4T-UP0T-UP2T-UP3T))))\n",
    "FP1414 = np.trace(np.dot(UP14T,(L14+(UTotalT-UP14T-UP12T-UP10T-UP9T-UP8T-UP4T-UP0T-UP2T-UP3T))))\n",
    "FP1616 = np.trace(np.dot(UP16T,(L16+(UTotalT-UP16T-UP14T-UP12T-UP10T-UP9T-UP8T-UP4T-UP0T-UP2T-UP3T))))\n",
    "FP1717 = np.trace(np.dot(UP17T,(L17+(UTotalT-UP17T-UP16T-UP14T-UP12T-UP10T-UP9T-UP8T-UP4T-UP0T-UP2T-UP3T))))\n",
    "FP2020 = np.trace(np.dot(UP20T,(L20+(UTotalT-UP20T-UP17T-UP16T-UP14T-UP12T-UP10T-UP9T-UP8T-UP4T-UP0T-UP2T-UP3T))))\n",
    "FP2222 = np.trace(np.dot(UP22T,(L22+(UTotalT-UP22T-UP20T-UP17T-UP16T-UP14T-UP12T-UP10T-UP9T-UP8T-UP4T-UP0T-UP2T-UP3T))))\n",
    "FP2323 = np.trace(np.dot(UP23T,(L23+(UTotalT-UP23T-UP22T-UP20T-UP17T-UP16T-UP14T-UP12T-UP10T-UP9T-UP8T-UP4T-UP0T-UP2T-UP3T))))\n",
    "FP2424 = np.trace(np.dot(UP24T,(L24+(UTotalT-UP24T-UP23T-UP22T-UP20T-UP17T-UP16T-UP14T-UP12T-UP10T-UP9T-UP8T-UP4T-UP0T-UP2T-UP3T))))\n",
    "FP2525 = np.trace(np.dot(UP25T,(L25+(UTotalT-UP25T-UP24T-UP23T-UP22T-UP20T-UP17T-UP16T-UP14T-UP12T-UP10T-UP9T-UP8T-UP4T-UP0T-UP2T-UP3T))))\n",
    "FP2626 = np.trace(np.dot(UP26T,(L26+(UTotalT-UP26T-UP25T-UP24T-UP23T-UP22T-UP20T-UP17T-UP16T-UP14T-UP12T-UP10T-UP9T-UP8T-UP4T-UP0T-UP2T-UP3T))))\n",
    "FP2727 = np.trace(np.dot(UP27T,(L27+(UTotalT-UP27T-UP26T-UP25T-UP24T-UP23T-UP22T-UP20T-UP17T-UP16T-UP14T-UP12T-UP10T-UP9T-UP8T-UP4T-UP0T-UP2T-UP3T))))\n",
    "'''"
   ]
  },
  {
   "cell_type": "code",
   "execution_count": 389,
   "metadata": {},
   "outputs": [],
   "source": [
    "#FPFP = np.array([FP00,FP22,FP33,FP44,FP88,FP99,FP1010,FP1212,FP1414,FP1616,FP1717,FP2020,FP2222,FP2323,FP2424,FP2525,FP2626,FP2727])"
   ]
  },
  {
   "cell_type": "code",
   "execution_count": 390,
   "metadata": {},
   "outputs": [
    {
     "data": {
      "text/plain": [
       "130.90644293508947"
      ]
     },
     "execution_count": 390,
     "metadata": {},
     "output_type": "execute_result"
    }
   ],
   "source": [
    "#FPFP.max()"
   ]
  },
  {
   "cell_type": "code",
   "execution_count": 606,
   "metadata": {},
   "outputs": [],
   "source": [
    "#for i in FPFP:\n",
    "#    print(i)"
   ]
  },
  {
   "cell_type": "code",
   "execution_count": 395,
   "metadata": {},
   "outputs": [],
   "source": [
    "#FPargmax = np.argmax(FPFP)"
   ]
  },
  {
   "cell_type": "code",
   "execution_count": 396,
   "metadata": {},
   "outputs": [
    {
     "data": {
      "text/plain": [
       "0"
      ]
     },
     "execution_count": 396,
     "metadata": {},
     "output_type": "execute_result"
    }
   ],
   "source": [
    "#FPargmax"
   ]
  },
  {
   "cell_type": "code",
   "execution_count": 107,
   "metadata": {},
   "outputs": [],
   "source": [
    "WP0 = FP0/FP.mean()\n",
    "WP2 = FP2/FP.mean()\n",
    "WP3 = FP3/FP.mean()\n",
    "WP4 = FP4/FP.mean()\n",
    "WP8 = FP8/FP.mean()\n",
    "WP9 = FP9/FP.mean()\n",
    "WP10 = FP10/FP.mean()\n",
    "WP12 = FP12/FP.mean()\n",
    "WP14 = FP14/FP.mean()\n",
    "WP16 = FP16/FP.mean()\n",
    "WP20 = FP20/FP.mean()\n",
    "WP17 = FP17/FP.mean()\n",
    "WP22 = FP22/FP.mean()\n",
    "WP23 = FP23/FP.mean()\n",
    "WP24 = FP24/FP.mean()\n",
    "WP25 = FP25/FP.mean()\n",
    "WP26 = FP26/FP.mean()\n",
    "WP27 = FP27/FP.mean()\n"
   ]
  },
  {
   "cell_type": "code",
   "execution_count": 108,
   "metadata": {},
   "outputs": [],
   "source": [
    "WP = np.array([WP0,WP2,WP3,WP4,WP8,WP9,WP10,WP12,WP14,WP16,WP17,WP20,WP22,WP23,WP24,WP25,WP26,WP27])"
   ]
  },
  {
   "cell_type": "code",
   "execution_count": 109,
   "metadata": {},
   "outputs": [
    {
     "data": {
      "text/plain": [
       "1.2529175963500463"
      ]
     },
     "execution_count": 109,
     "metadata": {},
     "output_type": "execute_result"
    }
   ],
   "source": [
    "WP.max()"
   ]
  },
  {
   "cell_type": "code",
   "execution_count": 110,
   "metadata": {},
   "outputs": [
    {
     "name": "stdout",
     "output_type": "stream",
     "text": [
      "1.2529175963500463\n",
      "1.0611212014990692\n",
      "1.2521490799103179\n",
      "1.2482887257592317\n",
      "1.0670480686378712\n",
      "0.9871454677744502\n",
      "0.8294462852271456\n",
      "1.2528858105450675\n",
      "1.2506267544954612\n",
      "0.6083654286904976\n",
      "1.0579830638601289\n",
      "0.3623695118287389\n",
      "1.2491208891367602\n",
      "1.1907719326378141\n",
      "0.8268431030195963\n",
      "0.7718912503292731\n",
      "0.4850307620249184\n",
      "1.2459950682736138\n"
     ]
    }
   ],
   "source": [
    "for i in WP:\n",
    "    print(i)"
   ]
  },
  {
   "cell_type": "code",
   "execution_count": 64,
   "metadata": {},
   "outputs": [
    {
     "data": {
      "text/plain": [
       "1.4016312924254108"
      ]
     },
     "execution_count": 64,
     "metadata": {},
     "output_type": "execute_result"
    }
   ],
   "source": [
    "WP[7]"
   ]
  },
  {
   "cell_type": "code",
   "execution_count": 66,
   "metadata": {},
   "outputs": [
    {
     "data": {
      "text/plain": [
       "1.0856117410985908"
      ]
     },
     "execution_count": 66,
     "metadata": {},
     "output_type": "execute_result"
    }
   ],
   "source": [
    "WP12"
   ]
  },
  {
   "cell_type": "code",
   "execution_count": 111,
   "metadata": {},
   "outputs": [],
   "source": [
    "WS0 = np.dot(WP0,S0) \n",
    "WS2 = np.dot(WP2,S2) \n",
    "WS3 = np.dot(WP3,S3) \n",
    "WS4 = np.dot(WP4,S4) \n",
    "WS8 = np.dot(WP8,S8) \n",
    "WS9 = np.dot(WP9,S9) \n",
    "WS10 = np.dot(WP10,S10) \n",
    "WS12 = np.dot(WP12,S12) \n",
    "WS14 = np.dot(WP14,S14) \n",
    "WS16 = np.dot(WP16,S16) \n",
    "WS17 = np.dot(WP17,S17) \n",
    "WS20 = np.dot(WP20,S20) \n",
    "WS22 = np.dot(WP22,S22) \n",
    "WS23 = np.dot(WP23,S23) \n",
    "WS24 = np.dot(WP24,S24) \n",
    "WS25 = np.dot(WP25,S25) \n",
    "WS26 = np.dot(WP26,S26) \n",
    "WS27 = np.dot(WP27,S27) \n"
   ]
  },
  {
   "cell_type": "code",
   "execution_count": 112,
   "metadata": {},
   "outputs": [],
   "source": [
    "WSTotal = WS0 + WS2 + WS3 + WS4 + WS8 + WS9 + WS10 + WS12 + WS14 + WS16 + WS17 + WS20 + WS22 + WS23 + WS24 + WS25 + WS26 + WS27"
   ]
  },
  {
   "cell_type": "code",
   "execution_count": 444,
   "metadata": {},
   "outputs": [],
   "source": [
    "WSTotal\n",
    "dfWS = pd.DataFrame(data=WSTotal)\n",
    "dfWS.to_csv(\"CSV\\X\\WSTotal.csv\")"
   ]
  },
  {
   "cell_type": "code",
   "execution_count": 113,
   "metadata": {},
   "outputs": [],
   "source": [
    "DiagWSTotal = [[0 for j in range(124)] for i in range(124)]\n",
    "for y in range(124):\n",
    "    for x in range(124):\n",
    "        DiagWSTotal[y][y] += WSTotal[y][x]\n",
    "\n",
    "\n",
    "        \n",
    "MatDiagWSTotal = np.linalg.inv(np.sqrt(DiagWSTotal))\n",
    "I = np.identity(124)\n",
    "DS = np.dot(MatDiagWSTotal,WSTotal)\n",
    "DSD = np.dot(DS,MatDiagWSTotal)\n",
    "LWSTotal = I - DSD\n",
    "w, v = np.linalg.eigh(LWSTotal)\n",
    "k = 9 \n",
    "#UWSTotal = v[:,num_nodes-k:]\n"
   ]
  },
  {
   "cell_type": "code",
   "execution_count": 114,
   "metadata": {},
   "outputs": [],
   "source": [
    "UWSTotal = v[:,:k]"
   ]
  },
  {
   "cell_type": "code",
   "execution_count": 115,
   "metadata": {},
   "outputs": [],
   "source": [
    "Y = np.divide(UWSTotal, np.reshape(np.linalg.norm(UWSTotal, axis=1), (UWSTotal.shape[0], 1)))"
   ]
  },
  {
   "cell_type": "code",
   "execution_count": 116,
   "metadata": {},
   "outputs": [
    {
     "name": "stderr",
     "output_type": "stream",
     "text": [
      "C:\\Users\\Ylli\\Anaconda3\\lib\\site-packages\\networkx\\drawing\\nx_pylab.py:611: MatplotlibDeprecationWarning: isinstance(..., numbers.Number)\n",
      "  if cb.is_numlike(alpha):\n"
     ]
    },
    {
     "data": {
      "image/png": "[encoded data removed]",
      "text/plain": [
       "<Figure size 432x288 with 1 Axes>"
      ]
     },
     "metadata": {},
     "output_type": "display_data"
    }
   ],
   "source": [
    "kmeans = KMeans(n_clusters=9, random_state=1234).fit(Y)\n",
    "cluster_labels=kmeans.labels_\n",
    "nx.draw(G, node_size=20, pos=nx.spring_layout(G, k=0.05, iterations=20), node_color=cluster_labels)"
   ]
  },
  {
   "cell_type": "code",
   "execution_count": 117,
   "metadata": {},
   "outputs": [
    {
     "name": "stderr",
     "output_type": "stream",
     "text": [
      "C:\\Users\\Ylli\\Anaconda3\\lib\\site-packages\\sklearn\\metrics\\cluster\\supervised.py:844: FutureWarning: The behavior of NMI will change in version 0.22. To match the behavior of 'v_measure_score', NMI will use average_method='arithmetic' by default.\n",
      "  FutureWarning)\n"
     ]
    },
    {
     "data": {
      "text/plain": [
       "0.7826470539164362"
      ]
     },
     "execution_count": 117,
     "metadata": {},
     "output_type": "execute_result"
    }
   ],
   "source": [
    "from sklearn.metrics.cluster import normalized_mutual_info_score\n",
    "normalized_mutual_info_score(cluster_l, cluster_labels)"
   ]
  },
  {
   "cell_type": "code",
   "execution_count": 77,
   "metadata": {},
   "outputs": [],
   "source": [
    "ClusterL = pd.DataFrame(data=cluster_labels)\n",
    "ClusterL.to_csv(\"data\\ClusterLabelsExperiment.txt\", index=False, header=False)\n"
   ]
  }
 ],
 "metadata": {
  "kernelspec": {
   "display_name": "Python 3",
   "language": "python",
   "name": "python3"
  },
  "language_info": {
   "codemirror_mode": {
    "name": "ipython",
    "version": 3
   },
   "file_extension": ".py",
   "mimetype": "text/x-python",
   "name": "python",
   "nbconvert_exporter": "python",
   "pygments_lexer": "ipython3",
   "version": "3.7.3"
  }
 },
 "nbformat": 4,
 "nbformat_minor": 2
}
